{
 "cells": [
  {
   "cell_type": "code",
   "execution_count": 11,
   "outputs": [],
   "source": [
    "import matplotlib.pyplot as plt\n",
    "import pandas as pd\n",
    "import tensorflow as tf\n",
    "from sklearn.preprocessing import *\n",
    "import numpy as np"
   ],
   "metadata": {
    "pycharm": {
     "name": "#%%\n"
    },
    "id": "fO1DW_xdGDCr"
   }
  },
  {
   "cell_type": "code",
   "execution_count": 44,
   "outputs": [],
   "source": [
    "def draw_graph(history):\n",
    "\n",
    "    plt.plot(history.history['accuracy'])\n",
    "    plt.plot(history.history['val_accuracy'])\n",
    "    plt.title('Model accuracy')\n",
    "    plt.xlabel('Epoch')\n",
    "    plt.ylabel('Accuracy')\n",
    "    plt.legend(['Train', 'Test'], loc='upper left')\n",
    "    plt.show()\n",
    "\n",
    "    plt.plot(history.history['loss'])\n",
    "    plt.plot(history.history['val_loss'])\n",
    "    plt.title('Model loss')\n",
    "    plt.xlabel('Epoch')\n",
    "    plt.ylabel('Loss')\n",
    "    plt.legend(['Train', 'Test'], loc='upper left')\n",
    "    plt.show()"
   ],
   "metadata": {
    "pycharm": {
     "name": "#%%\n"
    },
    "id": "hUbitfYJGDCx"
   }
  },
  {
   "cell_type": "code",
   "execution_count": 45,
   "outputs": [
    {
     "data": {
      "text/plain": "   Frequency  Timeinterval-avg  Timeinterval-std    Size-avg Cluster\n0        104        104.177744        599.385970  512.000000     Hot\n1        178         61.051303        417.857584  512.000000     Hot\n2        128         84.295964        540.087874  512.000000     Hot\n3        138         78.143073        413.777300  537.971014     Hot\n4        129         83.637812        535.740946  539.782946     Hot",
      "text/html": "<div>\n<style scoped>\n    .dataframe tbody tr th:only-of-type {\n        vertical-align: middle;\n    }\n\n    .dataframe tbody tr th {\n        vertical-align: top;\n    }\n\n    .dataframe thead th {\n        text-align: right;\n    }\n</style>\n<table border=\"1\" class=\"dataframe\">\n  <thead>\n    <tr style=\"text-align: right;\">\n      <th></th>\n      <th>Frequency</th>\n      <th>Timeinterval-avg</th>\n      <th>Timeinterval-std</th>\n      <th>Size-avg</th>\n      <th>Cluster</th>\n    </tr>\n  </thead>\n  <tbody>\n    <tr>\n      <th>0</th>\n      <td>104</td>\n      <td>104.177744</td>\n      <td>599.385970</td>\n      <td>512.000000</td>\n      <td>Hot</td>\n    </tr>\n    <tr>\n      <th>1</th>\n      <td>178</td>\n      <td>61.051303</td>\n      <td>417.857584</td>\n      <td>512.000000</td>\n      <td>Hot</td>\n    </tr>\n    <tr>\n      <th>2</th>\n      <td>128</td>\n      <td>84.295964</td>\n      <td>540.087874</td>\n      <td>512.000000</td>\n      <td>Hot</td>\n    </tr>\n    <tr>\n      <th>3</th>\n      <td>138</td>\n      <td>78.143073</td>\n      <td>413.777300</td>\n      <td>537.971014</td>\n      <td>Hot</td>\n    </tr>\n    <tr>\n      <th>4</th>\n      <td>129</td>\n      <td>83.637812</td>\n      <td>535.740946</td>\n      <td>539.782946</td>\n      <td>Hot</td>\n    </tr>\n  </tbody>\n</table>\n</div>"
     },
     "execution_count": 45,
     "metadata": {},
     "output_type": "execute_result"
    }
   ],
   "source": [
    "cluster_path = '../csv/preprocessed/clustered_model.csv'\n",
    "cluster = pd.read_csv(cluster_path)\n",
    "cluster.head()"
   ],
   "metadata": {
    "collapsed": false,
    "pycharm": {
     "name": "#%%\n"
    }
   }
  },
  {
   "cell_type": "code",
   "execution_count": 46,
   "outputs": [
    {
     "name": "stdout",
     "output_type": "stream",
     "text": [
      "Hot :  29757\n",
      "Warm :  65928\n",
      "Cold :  18546\n"
     ]
    }
   ],
   "source": [
    "print('Hot : ', len(cluster[cluster['Cluster'] == 'Hot']))\n",
    "print('Warm : ', len(cluster[cluster['Cluster'] == 'Warm']))\n",
    "print('Cold : ', len(cluster[cluster['Cluster'] == 'Cold']))"
   ],
   "metadata": {
    "pycharm": {
     "name": "#%%\n"
    },
    "id": "8vdzf1d6GDCy",
    "outputId": "4a8a5c19-f718-475a-b624-0caf4189cd07"
   }
  },
  {
   "cell_type": "code",
   "execution_count": 47,
   "outputs": [
    {
     "name": "stdout",
     "output_type": "stream",
     "text": [
      "Encoded: {'Cold': 0, 'Hot': 1, 'Warm': 2}\n",
      "Decoded: {0: 'Cold', 1: 'Hot', 2: 'Warm'}\n"
     ]
    }
   ],
   "source": [
    "# Encode the labels to integers\n",
    "label_encoder = LabelEncoder()\n",
    "encoded_labels = label_encoder.fit_transform(cluster['Cluster'])\n",
    "cluster['Cluster'] = encoded_labels\n",
    "\n",
    "encoded_dict = dict(zip(label_encoder.classes_, range(len(label_encoder.classes_))))\n",
    "print(\"Encoded:\", encoded_dict)\n",
    "\n",
    "# 디코딩 딕셔너리\n",
    "decoded_dict = dict(zip(range(len(label_encoder.classes_)), label_encoder.classes_))\n",
    "print(\"Decoded:\", decoded_dict)\n",
    "\n",
    "# Prepare the data for LSTM\n",
    "X = cluster.drop(['Cluster'], axis=1).values\n",
    "y = cluster['Cluster'].values"
   ],
   "metadata": {
    "pycharm": {
     "name": "#%%\n"
    },
    "id": "ypEHzsHuGDCz",
    "outputId": "9326d361-82cc-43d0-ed87-535bcbd33c7d"
   }
  },
  {
   "cell_type": "code",
   "execution_count": null,
   "outputs": [],
   "source": [
    "# Reshape X to be 3D [samples, timesteps, cluster] as required for LSTM\n",
    "X = X.reshape((X.shape[0], 1, X.shape[1]))\n",
    "\n",
    "# Split the data into training and testing sets\n",
    "train_size = int(len(X) * 0.8)\n",
    "X_train, y_train = X[:train_size], y[:train_size]\n",
    "X_test, y_test = X[train_size:], y[train_size:]\n",
    "\n",
    "reg_l2 = tf.keras.regularizers.l2(0.01)\n",
    "\n",
    "# Build the LSTM model\n",
    "model = tf.keras.models.Sequential([\n",
    "    tf.keras.layers.LSTM(64,\n",
    "                         input_shape=(X_train.shape[1], X_train.shape[2]),\n",
    "                         kernel_regularizer=reg_l2,\n",
    "                         recurrent_regularizer=reg_l2,\n",
    "                         bias_regularizer=reg_l2),\n",
    "    tf.keras.layers.Dropout(0.2),\n",
    "    tf.keras.layers.Dense(3, activation='softmax')  # 3 classes: Hot, Cold, Warm\n",
    "])\n",
    "\n",
    "# Compile the model\n",
    "model.compile(optimizer='adam', loss='sparse_categorical_crossentropy', metrics=['accuracy'])\n",
    "\n",
    "early_stopping = tf.keras.callbacks.EarlyStopping('loss', patience=2, mode='min')\n",
    "\n",
    "\n",
    "# Train the model\n",
    "history = model.fit(X_train, y_train, validation_data=(X_test, y_test), epochs=10, batch_size=32, callbacks=[early_stopping])\n",
    "\n",
    "draw_graph(history)"
   ],
   "metadata": {
    "collapsed": false,
    "pycharm": {
     "name": "#%%\n"
    }
   }
  },
  {
   "cell_type": "code",
   "execution_count": 6,
   "outputs": [
    {
     "name": "stdout",
     "output_type": "stream",
     "text": [
      "loss :  ['0.6239', '0.5167', '0.5323', '0.5427']\n",
      "accuracy :  ['0.7417', '0.7448', '0.7500', '0.7372']\n",
      "val_loss :  ['0.7378', '0.6644', '0.6107', '0.5455']\n",
      "val_accuracy :  ['0.7747', '0.7128', '0.7625', '0.7793']\n"
     ]
    }
   ],
   "source": [
    "# f = open(\"train_log.txt\", 'w')\n",
    "# f.write('loss : ', history.history['loss'])\n",
    "# f.write('accuracy : ', history.history['accuracy'])\n",
    "# f.write('val_loss : ', history.history['val_loss'])\n",
    "# f.write('val_accuracy : ',history.history['val_accuracy'])\n",
    "# f.close()\n",
    "\n",
    "fmt = lambda x: '{:.4f}'.format(x)\n",
    "\n",
    "print('loss : ', list(map(fmt, history.history['loss'])))\n",
    "print('accuracy : ', list(map(fmt, history.history['accuracy'])))\n",
    "print('val_loss : ', list(map(fmt, history.history['val_loss'])))\n",
    "print('val_accuracy : ', list(map(fmt, history.history['val_accuracy'])))"
   ],
   "metadata": {
    "pycharm": {
     "name": "#%%\n"
    },
    "id": "V4OTkWvjGDCz",
    "outputId": "2f303d3f-9ebc-4491-bd13-375017ba49a1"
   }
  },
  {
   "cell_type": "code",
   "execution_count": 57,
   "outputs": [
    {
     "name": "stdout",
     "output_type": "stream",
     "text": [
      "1/1 [==============================] - 0s 16ms/step\n"
     ]
    },
    {
     "data": {
      "text/plain": "'Hot'"
     },
     "execution_count": 57,
     "metadata": {},
     "output_type": "execute_result"
    }
   ],
   "source": [
    "def predict_input(input_array):\n",
    "    input_array = input_array.reshape((input_array.shape[0], 1, input_array.shape[1]))\n",
    "    probabilities = model.predict(input_array)\n",
    "    predict_labels = np.argmax(probabilities, axis = 1)\n",
    "    return decoded_dict[predict_labels[0]]\n",
    "\n",
    "x = np.array([[1000, 1, 2, 500]])\n",
    "predict_input(x)"
   ],
   "metadata": {
    "collapsed": false,
    "pycharm": {
     "name": "#%%\n"
    }
   }
  },
  {
   "cell_type": "code",
   "execution_count": 18,
   "outputs": [],
   "source": [
    "# model.save('lstm.h5')"
   ],
   "metadata": {
    "collapsed": false,
    "pycharm": {
     "name": "#%%\n"
    }
   }
  }
 ],
 "metadata": {
  "kernelspec": {
   "display_name": "Python 3",
   "language": "python",
   "name": "python3"
  },
  "language_info": {
   "codemirror_mode": {
    "name": "ipython",
    "version": 2
   },
   "file_extension": ".py",
   "mimetype": "text/x-python",
   "name": "python",
   "nbconvert_exporter": "python",
   "pygments_lexer": "ipython2",
   "version": "2.7.6"
  },
  "colab": {
   "provenance": []
  }
 },
 "nbformat": 4,
 "nbformat_minor": 0
}