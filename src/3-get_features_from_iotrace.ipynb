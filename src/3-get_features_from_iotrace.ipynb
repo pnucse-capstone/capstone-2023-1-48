{
 "cells": [
  {
   "cell_type": "code",
   "execution_count": 3,
   "outputs": [],
   "source": [
    "import pandas as pd\n",
    "from collections import defaultdict\n",
    "import csv\n",
    "import numpy as np"
   ],
   "metadata": {
    "collapsed": false,
    "pycharm": {
     "name": "#%%\n"
    }
   }
  },
  {
   "cell_type": "code",
   "execution_count": 2,
   "outputs": [
    {
     "data": {
      "text/plain": "   PageId  Size  Timestamp\n0   37945  3584   0.000000\n1    6948  3072   0.000000\n2   37946  3584   0.026214\n3   30105  3072   0.026214\n4   37947  3584   0.117964",
      "text/html": "<div>\n<style scoped>\n    .dataframe tbody tr th:only-of-type {\n        vertical-align: middle;\n    }\n\n    .dataframe tbody tr th {\n        vertical-align: top;\n    }\n\n    .dataframe thead th {\n        text-align: right;\n    }\n</style>\n<table border=\"1\" class=\"dataframe\">\n  <thead>\n    <tr style=\"text-align: right;\">\n      <th></th>\n      <th>PageId</th>\n      <th>Size</th>\n      <th>Timestamp</th>\n    </tr>\n  </thead>\n  <tbody>\n    <tr>\n      <th>0</th>\n      <td>37945</td>\n      <td>3584</td>\n      <td>0.000000</td>\n    </tr>\n    <tr>\n      <th>1</th>\n      <td>6948</td>\n      <td>3072</td>\n      <td>0.000000</td>\n    </tr>\n    <tr>\n      <th>2</th>\n      <td>37946</td>\n      <td>3584</td>\n      <td>0.026214</td>\n    </tr>\n    <tr>\n      <th>3</th>\n      <td>30105</td>\n      <td>3072</td>\n      <td>0.026214</td>\n    </tr>\n    <tr>\n      <th>4</th>\n      <td>37947</td>\n      <td>3584</td>\n      <td>0.117964</td>\n    </tr>\n  </tbody>\n</table>\n</div>"
     },
     "execution_count": 2,
     "metadata": {},
     "output_type": "execute_result"
    }
   ],
   "source": [
    "columns = ['PageId', 'Size', 'Timestamp']\n",
    "iotrace_path = '../csv/preprocessed/iotrace_model.csv'\n",
    "iotrace = pd.read_csv(iotrace_path, header=None, names=columns)\n",
    "iotrace.head()"
   ],
   "metadata": {
    "collapsed": false,
    "pycharm": {
     "name": "#%%\n"
    }
   }
  },
  {
   "cell_type": "code",
   "execution_count": 3,
   "outputs": [],
   "source": [
    "def calculate_features(io_trace):\n",
    "    \"\"\"\n",
    "    주어진 I/O 트레이스 데이터를 처리하여 각 PageId에 대한 특징을 계산합니다.\n",
    "    \"\"\"\n",
    "    # 데이터를 시간 순으로 정렬\n",
    "    io_trace = io_trace.sort_values(by='Timestamp')\n",
    "\n",
    "    # 각 PageId에 대한 통계 계산을 위한 빈 리스트 준비\n",
    "    page_ids = []\n",
    "    frequency = []\n",
    "    timeinterval_avg = []\n",
    "    timeinterval_std = []\n",
    "    size_avg = []\n",
    "\n",
    "    # 각 PageId에 대해 계산 수행\n",
    "    for page_id, group in io_trace.groupby('PageId'):\n",
    "        page_ids.append(page_id)\n",
    "        frequency.append(len(group))\n",
    "        time_intervals = group['Timestamp'].diff().dropna()\n",
    "        if time_intervals.empty:\n",
    "            timeinterval_avg.append(-1)\n",
    "            timeinterval_std.append(-1)\n",
    "        else:\n",
    "            timeinterval_avg.append(time_intervals.mean())\n",
    "            timeinterval_std.append(time_intervals.std())\n",
    "\n",
    "        size_avg.append(group['Size'].mean())\n",
    "\n",
    "    # 결과를 데이터프레임으로 합치기\n",
    "    features = pd.DataFrame({\n",
    "        'PageId': page_ids,\n",
    "        'Frequency': frequency,\n",
    "        'Timeinterval-avg': timeinterval_avg,\n",
    "        'Timeinterval-std': timeinterval_std,\n",
    "        'Size-avg': size_avg\n",
    "    })\n",
    "\n",
    "    return features"
   ],
   "metadata": {
    "collapsed": false,
    "pycharm": {
     "name": "#%%\n"
    }
   }
  },
  {
   "cell_type": "code",
   "execution_count": 4,
   "outputs": [],
   "source": [
    "features = calculate_features(iotrace)\n",
    "timeinterval_max = features['Timeinterval-avg'].max()\n",
    "# -1 데이터의 의미 : frequency가 1이라, avg, std를 계산하지 못하는 경우.\n",
    "features.replace({'Timeinterval-avg': -1}, timeinterval_max + 0.1, inplace=True)\n",
    "features.replace({'Timeinterval-std': -1}, timeinterval_max + 0.1, inplace=True)\n",
    "\n",
    "# NaN 데이터의 의미 : frequency가 2라, interval이 1개라 std가 NaN인 경우\n",
    "# avg가 max이지만, std가 0이 된다면, hot으로 분류되는 문제점 존재 -> 최대값으로 치환\n",
    "features.fillna(timeinterval_max + 0.1, inplace=True)\n",
    "features.to_csv('../csv/preprocessed/features_model.csv', index=False)"
   ],
   "metadata": {
    "collapsed": false,
    "pycharm": {
     "name": "#%%\n"
    }
   }
  },
  {
   "cell_type": "code",
   "execution_count": 5,
   "outputs": [
    {
     "data": {
      "text/plain": "   PageId  Frequency  Timeinterval-avg  Timeinterval-std    Size-avg\n0       0        104        104.177744        599.385970  512.000000\n1       1        178         61.051303        417.857584  512.000000\n2       2        128         84.295964        540.087874  512.000000\n3       3        138         78.143073        413.777300  537.971014\n4       4        129         83.637812        535.740946  539.782946",
      "text/html": "<div>\n<style scoped>\n    .dataframe tbody tr th:only-of-type {\n        vertical-align: middle;\n    }\n\n    .dataframe tbody tr th {\n        vertical-align: top;\n    }\n\n    .dataframe thead th {\n        text-align: right;\n    }\n</style>\n<table border=\"1\" class=\"dataframe\">\n  <thead>\n    <tr style=\"text-align: right;\">\n      <th></th>\n      <th>PageId</th>\n      <th>Frequency</th>\n      <th>Timeinterval-avg</th>\n      <th>Timeinterval-std</th>\n      <th>Size-avg</th>\n    </tr>\n  </thead>\n  <tbody>\n    <tr>\n      <th>0</th>\n      <td>0</td>\n      <td>104</td>\n      <td>104.177744</td>\n      <td>599.385970</td>\n      <td>512.000000</td>\n    </tr>\n    <tr>\n      <th>1</th>\n      <td>1</td>\n      <td>178</td>\n      <td>61.051303</td>\n      <td>417.857584</td>\n      <td>512.000000</td>\n    </tr>\n    <tr>\n      <th>2</th>\n      <td>2</td>\n      <td>128</td>\n      <td>84.295964</td>\n      <td>540.087874</td>\n      <td>512.000000</td>\n    </tr>\n    <tr>\n      <th>3</th>\n      <td>3</td>\n      <td>138</td>\n      <td>78.143073</td>\n      <td>413.777300</td>\n      <td>537.971014</td>\n    </tr>\n    <tr>\n      <th>4</th>\n      <td>4</td>\n      <td>129</td>\n      <td>83.637812</td>\n      <td>535.740946</td>\n      <td>539.782946</td>\n    </tr>\n  </tbody>\n</table>\n</div>"
     },
     "execution_count": 5,
     "metadata": {},
     "output_type": "execute_result"
    }
   ],
   "source": [
    "features.head()"
   ],
   "metadata": {
    "collapsed": false,
    "pycharm": {
     "name": "#%%\n"
    }
   }
  },
  {
   "cell_type": "code",
   "execution_count": null,
   "outputs": [],
   "source": [],
   "metadata": {
    "collapsed": false,
    "pycharm": {
     "name": "#%%\n"
    }
   }
  },
  {
   "cell_type": "code",
   "execution_count": null,
   "outputs": [],
   "source": [
    "# 마지막 timestamp를 추가하는 과정"
   ],
   "metadata": {
    "collapsed": false,
    "pycharm": {
     "name": "#%%\n"
    }
   }
  },
  {
   "cell_type": "code",
   "execution_count": 8,
   "outputs": [],
   "source": [
    "def get_features():\n",
    "    features = defaultdict(list)\n",
    "    features_path = '../csv/preprocessed/features_model.csv'\n",
    "    str_to_float = lambda x: round(float(x), 10)\n",
    "    with open(features_path, newline='', mode='r') as csvfile:\n",
    "        reader = csv.reader(csvfile)\n",
    "        next(reader) # 헤더 넘기기\n",
    "        for page_id, frequency, timeinterval_avg, timeinterval_std, size_avg, in reader:\n",
    "            page_id = int(page_id)\n",
    "            frequency = int(frequency)\n",
    "            timeinterval_avg = str_to_float(timeinterval_avg)\n",
    "            timeinterval_std = str_to_float(timeinterval_std)\n",
    "            size_avg = str_to_float(size_avg)\n",
    "            features[page_id] = [frequency, timeinterval_avg, timeinterval_std, size_avg]\n",
    "    return features"
   ],
   "metadata": {
    "collapsed": false,
    "pycharm": {
     "name": "#%%\n"
    }
   }
  },
  {
   "cell_type": "code",
   "execution_count": 9,
   "outputs": [],
   "source": [
    "features = get_features()"
   ],
   "metadata": {
    "collapsed": false,
    "pycharm": {
     "name": "#%%\n"
    }
   }
  },
  {
   "cell_type": "code",
   "execution_count": 10,
   "outputs": [],
   "source": [
    "iotrace_path = '../csv/preprocessed/iotrace_model.csv'\n",
    "timestamp_dict = defaultdict(float)\n",
    "str_to_float = lambda x: round(float(x), 10)\n",
    "with open(iotrace_path, newline='', mode='r') as csvfile:\n",
    "    reader = csv.reader(csvfile)\n",
    "    next(reader) # 첫 행 제거\n",
    "    for logical_page_address, size, timestamp in reader:\n",
    "        logical_page_address = int(logical_page_address)\n",
    "        timestamp = str_to_float(timestamp)\n",
    "        timestamp_dict[logical_page_address] = timestamp\n",
    "    for logical_page_address, timestamp in timestamp_dict.items():\n",
    "        features[logical_page_address].append(timestamp)"
   ],
   "metadata": {
    "collapsed": false,
    "pycharm": {
     "name": "#%%\n"
    }
   }
  },
  {
   "cell_type": "code",
   "execution_count": 26,
   "outputs": [],
   "source": [
    "df = pd.DataFrame(features).transpose()\n",
    "df.reset_index(inplace=True)\n",
    "df.columns = ['PageId', 'Frequency', 'Timeinterval-avg', 'Timeinterval-std', 'Size', 'Last-Timestamp']\n",
    "df['PageId'] = df['PageId'].astype('int32')\n",
    "df['Frequency'] = df['Frequency'].astype('int32')"
   ],
   "metadata": {
    "collapsed": false,
    "pycharm": {
     "name": "#%%\n"
    }
   }
  },
  {
   "cell_type": "code",
   "execution_count": 27,
   "outputs": [],
   "source": [
    "df.to_csv('../csv/preprocessed/features_timestamp_model.csv', index=False)"
   ],
   "metadata": {
    "collapsed": false,
    "pycharm": {
     "name": "#%%\n"
    }
   }
  }
 ],
 "metadata": {
  "kernelspec": {
   "display_name": "Python 3",
   "language": "python",
   "name": "python3"
  },
  "language_info": {
   "codemirror_mode": {
    "name": "ipython",
    "version": 2
   },
   "file_extension": ".py",
   "mimetype": "text/x-python",
   "name": "python",
   "nbconvert_exporter": "python",
   "pygments_lexer": "ipython2",
   "version": "2.7.6"
  }
 },
 "nbformat": 4,
 "nbformat_minor": 0
}