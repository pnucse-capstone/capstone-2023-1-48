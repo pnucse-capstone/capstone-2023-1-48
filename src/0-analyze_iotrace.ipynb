{
 "cells": [
  {
   "cell_type": "code",
   "execution_count": 1,
   "outputs": [],
   "source": [
    "import pandas as pd"
   ],
   "metadata": {
    "collapsed": false,
    "pycharm": {
     "name": "#%%\n"
    }
   }
  },
  {
   "cell_type": "code",
   "execution_count": 2,
   "outputs": [
    {
     "name": "stdout",
     "output_type": "stream",
     "text": [
      "5334987\n",
      "3699195\n"
     ]
    }
   ],
   "source": [
    "columns = ['ASU', 'SectorId', 'Size', 'Opcode', 'Timestamp']\n",
    "df1 = pd.read_csv(\"../csv/raw/Financial1.csv\", header=None, names=columns)\n",
    "df2 = pd.read_csv(\"../csv/raw/Financial2.csv\", header=None, names=columns)\n",
    "print(f\"Write operations of Financial1.csv: {len(df1['Opcode'] == 'w')}\")\n",
    "print(f\"Write operations of Financial2.csv: {len(df2['Opcode'] == 'w')}\")"
   ],
   "metadata": {
    "collapsed": false,
    "pycharm": {
     "name": "#%%\n"
    }
   }
  },
  {
   "cell_type": "code",
   "execution_count": null,
   "outputs": [],
   "source": [
    "# 데이터가 조금 더 많은 Financial1.csv 파일로 실험 결정\n",
    "# iotrace_simulation 파일은 Financial1.csv 파일을 page 형식으로 바꾸고, model:simulation = 3:7로 나눈 파일이다."
   ],
   "metadata": {
    "collapsed": false,
    "pycharm": {
     "name": "#%%\n"
    }
   }
  },
  {
   "cell_type": "code",
   "execution_count": 4,
   "outputs": [
    {
     "name": "stdout",
     "output_type": "stream",
     "text": [
      "   PageId  Size     Timestamp\n",
      "0   60637  1024  14022.803710\n",
      "1   60637  3584  14022.835937\n",
      "2   14956  3072  14022.835937\n",
      "3   60638  3584  14022.855468\n",
      "4   29750  3072  14022.855468\n",
      "I/O Trace size of simulation:  3939773\n",
      "Unique PageIds of simulation:  132920\n"
     ]
    }
   ],
   "source": [
    "columns = ['PageId', 'Size', 'Timestamp']\n",
    "df_simulation = pd.read_csv(\"../csv/preprocessed/iotrace_simulation.csv\", header=None, names=columns)\n",
    "print(df_simulation.head())\n",
    "print(\"I/O Trace size of simulation: \", len(df_simulation))\n",
    "print(\"Unique PageIds of simulation: \", len(df_simulation['PageId'].unique()))"
   ],
   "metadata": {
    "collapsed": false,
    "pycharm": {
     "name": "#%%\n"
    }
   }
  }
 ],
 "metadata": {
  "kernelspec": {
   "display_name": "Python 3",
   "language": "python",
   "name": "python3"
  },
  "language_info": {
   "codemirror_mode": {
    "name": "ipython",
    "version": 2
   },
   "file_extension": ".py",
   "mimetype": "text/x-python",
   "name": "python",
   "nbconvert_exporter": "python",
   "pygments_lexer": "ipython2",
   "version": "2.7.6"
  }
 },
 "nbformat": 4,
 "nbformat_minor": 0
}