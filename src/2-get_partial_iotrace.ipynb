{
 "cells": [
  {
   "cell_type": "code",
   "execution_count": 1,
   "outputs": [],
   "source": [
    "import pandas as pd"
   ],
   "metadata": {
    "collapsed": false,
    "pycharm": {
     "name": "#%%\n"
    }
   }
  },
  {
   "cell_type": "code",
   "execution_count": 2,
   "outputs": [
    {
     "data": {
      "text/plain": "   PageId  Size     Timestamp\n0   60637  1024  14022.803710\n1   60637  3584  14022.835937\n2   14956  3072  14022.835937\n3   60638  3584  14022.855468\n4   29750  3072  14022.855468",
      "text/html": "<div>\n<style scoped>\n    .dataframe tbody tr th:only-of-type {\n        vertical-align: middle;\n    }\n\n    .dataframe tbody tr th {\n        vertical-align: top;\n    }\n\n    .dataframe thead th {\n        text-align: right;\n    }\n</style>\n<table border=\"1\" class=\"dataframe\">\n  <thead>\n    <tr style=\"text-align: right;\">\n      <th></th>\n      <th>PageId</th>\n      <th>Size</th>\n      <th>Timestamp</th>\n    </tr>\n  </thead>\n  <tbody>\n    <tr>\n      <th>0</th>\n      <td>60637</td>\n      <td>1024</td>\n      <td>14022.803710</td>\n    </tr>\n    <tr>\n      <th>1</th>\n      <td>60637</td>\n      <td>3584</td>\n      <td>14022.835937</td>\n    </tr>\n    <tr>\n      <th>2</th>\n      <td>14956</td>\n      <td>3072</td>\n      <td>14022.835937</td>\n    </tr>\n    <tr>\n      <th>3</th>\n      <td>60638</td>\n      <td>3584</td>\n      <td>14022.855468</td>\n    </tr>\n    <tr>\n      <th>4</th>\n      <td>29750</td>\n      <td>3072</td>\n      <td>14022.855468</td>\n    </tr>\n  </tbody>\n</table>\n</div>"
     },
     "execution_count": 2,
     "metadata": {},
     "output_type": "execute_result"
    }
   ],
   "source": [
    "column = ['PageId', 'Size', 'Timestamp']\n",
    "df = pd.read_csv('../csv/preprocessed/iotrace_simulation.csv', names=column)\n",
    "df.head()"
   ],
   "metadata": {
    "collapsed": false,
    "pycharm": {
     "name": "#%%\n"
    }
   }
  },
  {
   "cell_type": "code",
   "execution_count": null,
   "outputs": [],
   "source": [
    "partial_df = df[:1000000]\n",
    "partial_df.to_csv('../csv/preprocessed/iotrace_simulation_partial.csv', index=False)"
   ],
   "metadata": {
    "collapsed": false,
    "pycharm": {
     "name": "#%%\n",
     "is_executing": true
    }
   }
  }
 ],
 "metadata": {
  "kernelspec": {
   "display_name": "Python 3",
   "language": "python",
   "name": "python3"
  },
  "language_info": {
   "codemirror_mode": {
    "name": "ipython",
    "version": 2
   },
   "file_extension": ".py",
   "mimetype": "text/x-python",
   "name": "python",
   "nbconvert_exporter": "python",
   "pygments_lexer": "ipython2",
   "version": "2.7.6"
  }
 },
 "nbformat": 4,
 "nbformat_minor": 0
}