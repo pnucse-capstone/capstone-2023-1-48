{
 "cells": [
  {
   "cell_type": "markdown",
   "source": [
    "### Application specific unit (ASU)\n",
    "The ASU is a positive integer representing the application specific unit (see the SPC Global Parameter\n",
    "specification document). This is a zero based, monotonically increasing number. The first record in the\n",
    "trace file need not have the ASU equal to zero, however unit zero must exist within the trace file. If there\n",
    "are a total of n units described in the complete trace file, then the trace file must contain at least one\n",
    "record for each of units 0 through n-1.\n",
    "\n",
    "### Logical block address (LBA)\n",
    "The LBA field is a positive integer that describes the ASU block offset of the data transfer for this record,\n",
    "where the size of a block is contained in the description of the trace file. This offset is zero based, and\n",
    "may range from 0 to n-1, where n is the capacity in blocks of the ASU. There is no upper limit on this\n",
    "field, other than the restriction that sum of the address and size fields must be less than or equal to the\n",
    "capacity of the ASU.\n",
    "\n",
    "### Size\n",
    "The size field is a positive integer that describes the number of **bytes** transferred for this record. A value\n",
    "of zero is legal, the result of which is I/O subsystem dependent. Although the majority of records are\n",
    "anticipated to be modulo 512, this constraint is not required. There is no upper limit on this field, other\n",
    "than the restriction that sum of the address and size fields must be less than or equal to the capacity of\n",
    "the ASU.\n",
    "\n",
    "### Opcode\n",
    "The opcode field is a single, case insensitive character that defines the direction of the transfer. There are\n",
    "two possible values for this field: SPC Trace File Format Specification Page 4 of 6\n",
    "1. “R” (or “r”) indicates a read operation. This implies data transfer from the ASU to the host computer.\n",
    "2. “W” (or “w”) indicates a write operation. This implies data transfer to the ASU from the host computer\n",
    "\n",
    "### Timestamp\n",
    "The timestamp field is a positive real number representing the offset in **seconds** for this I/O from the\n",
    "start of the trace. The format of this field is “s.d”, where “s” represents the integer portion, and “d”\n",
    "represents the fractional portion of the timestamp. Both the integer and fractional parts of the field must\n",
    "be present. The value of this field must be greater than or equal to all preceding records, and less than or\n",
    "equal to all succeeding records. The first record need not have a value of “0.0”.\n",
    "\n",
    "[SPC-Traces](https://traces.cs.umass.edu/index.php/Storage/Storage)\n",
    "\n",
    "---\n",
    "\n",
    "### Logical Block Address는 HDD의 SectorId를 의미하므로, SectorId로 치환하였다.\n",
    "### Sector 1개의 크기는 512byte이고 각 Page의 크기를 4KB로 설정하였으므로, 한 Page에는 8개의 Sector가 들어간다."
   ],
   "metadata": {
    "collapsed": false,
    "pycharm": {
     "name": "#%% md\n"
    }
   }
  },
  {
   "cell_type": "code",
   "execution_count": 16,
   "outputs": [],
   "source": [
    "import pandas as pd\n",
    "import numpy as np"
   ],
   "metadata": {
    "collapsed": false,
    "pycharm": {
     "name": "#%%\n"
    }
   }
  },
  {
   "cell_type": "code",
   "execution_count": 17,
   "outputs": [],
   "source": [
    "# define Constants\n",
    "byte = 1\n",
    "KB = 1024 * byte\n",
    "SECTOR_SIZE = 512 * byte\n",
    "PAGE_SIZE = 4 * KB\n",
    "SECTORS_PER_PAGE = PAGE_SIZE // SECTOR_SIZE"
   ],
   "metadata": {
    "collapsed": false,
    "pycharm": {
     "name": "#%%\n"
    }
   }
  },
  {
   "cell_type": "code",
   "execution_count": 18,
   "outputs": [
    {
     "name": "stdout",
     "output_type": "stream",
     "text": [
      "   ASU  SectorId  Size Opcode  Timestamp\n",
      "0    0    303567  3584      w   0.000000\n",
      "1    1     55590  3072      w   0.000000\n",
      "2    0    303574  3584      w   0.026214\n",
      "3    1    240840  3072      w   0.026214\n",
      "4    1     55596  3072      r   0.078643\n",
      "Size of Financial1.csv :  5334987\n"
     ]
    }
   ],
   "source": [
    "columns = ['ASU', 'SectorId', 'Size', 'Opcode', 'Timestamp']\n",
    "df = pd.read_csv('../csv/raw/Financial1.csv', header=None, names=columns)\n",
    "print(df.head())\n",
    "print(\"Size of Financial1.csv : \", len(df))"
   ],
   "metadata": {
    "collapsed": false,
    "pycharm": {
     "name": "#%%\n"
    }
   }
  },
  {
   "cell_type": "code",
   "execution_count": 19,
   "outputs": [
    {
     "data": {
      "text/plain": "   SectorId   Size  Timestamp  # of Sectors\n0    303567   3584   0.000000             7\n1     55590   3072   0.000000             6\n2    303574   3584   0.026214             7\n3    240840   3072   0.026214             6\n5    303581   3584   0.117964             7\n6     55596   3072   0.117964             6\n7    303588   3584   0.530841             7\n8     55596   3072   0.530841             6\n9    303595   3584   0.550502             7\n10   240840   3072   0.550502             6\n12   303602   3584   0.648806             7\n13    55602   3072   0.648806             6\n14   303609   3584   0.910950             7\n15    55602   3072   0.910950             6\n16   303616   3584   0.930611             7\n17   240840   3072   0.930611             6\n19   303623   3584   1.028915             7\n20    55608   3072   1.028915             6\n21   303630   3584   1.330380             7\n22    55608   3072   1.330380             6\n23   303637   3584   1.343487             7\n24   240840   3072   1.343487             6\n26   303644   3584   1.441792             7\n27    55614   3072   1.441792             6\n28   303651   3584   1.723596             7\n29    55614   3072   1.723596             6\n30   303658   3584   1.736704             7\n31   240840   3072   1.736704             6\n32   303665   3584   1.769472             7\n33   206064   3072   1.769472             6\n34   817767   3072   1.769472             6\n36   303672   3584   1.808793             7\n37   361644   3072   1.808793             6\n38   973347   3072   1.808793             6\n39   303679   3584   1.841561             7\n40    55620   3072   1.841561             6\n41   840815  12288   1.887436            24\n42    18046    512   1.939865             1\n43   287047    512   1.939865             1\n44   140946   3072   1.946419             6\n45   211167   3072   1.946419             6\n46   878231   1024   1.946419             2\n47  1002245   1024   1.946419             2\n48   725318    512   1.946419             1\n49   206064   3072   1.946419             6\n50   817767   3072   1.946419             6\n51   760114    512   1.946419             1\n52   303686  12288   1.946419            24\n53   840815    512   2.070937             1\n54   303710   1536   2.116812             3",
      "text/html": "<div>\n<style scoped>\n    .dataframe tbody tr th:only-of-type {\n        vertical-align: middle;\n    }\n\n    .dataframe tbody tr th {\n        vertical-align: top;\n    }\n\n    .dataframe thead th {\n        text-align: right;\n    }\n</style>\n<table border=\"1\" class=\"dataframe\">\n  <thead>\n    <tr style=\"text-align: right;\">\n      <th></th>\n      <th>SectorId</th>\n      <th>Size</th>\n      <th>Timestamp</th>\n      <th># of Sectors</th>\n    </tr>\n  </thead>\n  <tbody>\n    <tr>\n      <th>0</th>\n      <td>303567</td>\n      <td>3584</td>\n      <td>0.000000</td>\n      <td>7</td>\n    </tr>\n    <tr>\n      <th>1</th>\n      <td>55590</td>\n      <td>3072</td>\n      <td>0.000000</td>\n      <td>6</td>\n    </tr>\n    <tr>\n      <th>2</th>\n      <td>303574</td>\n      <td>3584</td>\n      <td>0.026214</td>\n      <td>7</td>\n    </tr>\n    <tr>\n      <th>3</th>\n      <td>240840</td>\n      <td>3072</td>\n      <td>0.026214</td>\n      <td>6</td>\n    </tr>\n    <tr>\n      <th>5</th>\n      <td>303581</td>\n      <td>3584</td>\n      <td>0.117964</td>\n      <td>7</td>\n    </tr>\n    <tr>\n      <th>6</th>\n      <td>55596</td>\n      <td>3072</td>\n      <td>0.117964</td>\n      <td>6</td>\n    </tr>\n    <tr>\n      <th>7</th>\n      <td>303588</td>\n      <td>3584</td>\n      <td>0.530841</td>\n      <td>7</td>\n    </tr>\n    <tr>\n      <th>8</th>\n      <td>55596</td>\n      <td>3072</td>\n      <td>0.530841</td>\n      <td>6</td>\n    </tr>\n    <tr>\n      <th>9</th>\n      <td>303595</td>\n      <td>3584</td>\n      <td>0.550502</td>\n      <td>7</td>\n    </tr>\n    <tr>\n      <th>10</th>\n      <td>240840</td>\n      <td>3072</td>\n      <td>0.550502</td>\n      <td>6</td>\n    </tr>\n    <tr>\n      <th>12</th>\n      <td>303602</td>\n      <td>3584</td>\n      <td>0.648806</td>\n      <td>7</td>\n    </tr>\n    <tr>\n      <th>13</th>\n      <td>55602</td>\n      <td>3072</td>\n      <td>0.648806</td>\n      <td>6</td>\n    </tr>\n    <tr>\n      <th>14</th>\n      <td>303609</td>\n      <td>3584</td>\n      <td>0.910950</td>\n      <td>7</td>\n    </tr>\n    <tr>\n      <th>15</th>\n      <td>55602</td>\n      <td>3072</td>\n      <td>0.910950</td>\n      <td>6</td>\n    </tr>\n    <tr>\n      <th>16</th>\n      <td>303616</td>\n      <td>3584</td>\n      <td>0.930611</td>\n      <td>7</td>\n    </tr>\n    <tr>\n      <th>17</th>\n      <td>240840</td>\n      <td>3072</td>\n      <td>0.930611</td>\n      <td>6</td>\n    </tr>\n    <tr>\n      <th>19</th>\n      <td>303623</td>\n      <td>3584</td>\n      <td>1.028915</td>\n      <td>7</td>\n    </tr>\n    <tr>\n      <th>20</th>\n      <td>55608</td>\n      <td>3072</td>\n      <td>1.028915</td>\n      <td>6</td>\n    </tr>\n    <tr>\n      <th>21</th>\n      <td>303630</td>\n      <td>3584</td>\n      <td>1.330380</td>\n      <td>7</td>\n    </tr>\n    <tr>\n      <th>22</th>\n      <td>55608</td>\n      <td>3072</td>\n      <td>1.330380</td>\n      <td>6</td>\n    </tr>\n    <tr>\n      <th>23</th>\n      <td>303637</td>\n      <td>3584</td>\n      <td>1.343487</td>\n      <td>7</td>\n    </tr>\n    <tr>\n      <th>24</th>\n      <td>240840</td>\n      <td>3072</td>\n      <td>1.343487</td>\n      <td>6</td>\n    </tr>\n    <tr>\n      <th>26</th>\n      <td>303644</td>\n      <td>3584</td>\n      <td>1.441792</td>\n      <td>7</td>\n    </tr>\n    <tr>\n      <th>27</th>\n      <td>55614</td>\n      <td>3072</td>\n      <td>1.441792</td>\n      <td>6</td>\n    </tr>\n    <tr>\n      <th>28</th>\n      <td>303651</td>\n      <td>3584</td>\n      <td>1.723596</td>\n      <td>7</td>\n    </tr>\n    <tr>\n      <th>29</th>\n      <td>55614</td>\n      <td>3072</td>\n      <td>1.723596</td>\n      <td>6</td>\n    </tr>\n    <tr>\n      <th>30</th>\n      <td>303658</td>\n      <td>3584</td>\n      <td>1.736704</td>\n      <td>7</td>\n    </tr>\n    <tr>\n      <th>31</th>\n      <td>240840</td>\n      <td>3072</td>\n      <td>1.736704</td>\n      <td>6</td>\n    </tr>\n    <tr>\n      <th>32</th>\n      <td>303665</td>\n      <td>3584</td>\n      <td>1.769472</td>\n      <td>7</td>\n    </tr>\n    <tr>\n      <th>33</th>\n      <td>206064</td>\n      <td>3072</td>\n      <td>1.769472</td>\n      <td>6</td>\n    </tr>\n    <tr>\n      <th>34</th>\n      <td>817767</td>\n      <td>3072</td>\n      <td>1.769472</td>\n      <td>6</td>\n    </tr>\n    <tr>\n      <th>36</th>\n      <td>303672</td>\n      <td>3584</td>\n      <td>1.808793</td>\n      <td>7</td>\n    </tr>\n    <tr>\n      <th>37</th>\n      <td>361644</td>\n      <td>3072</td>\n      <td>1.808793</td>\n      <td>6</td>\n    </tr>\n    <tr>\n      <th>38</th>\n      <td>973347</td>\n      <td>3072</td>\n      <td>1.808793</td>\n      <td>6</td>\n    </tr>\n    <tr>\n      <th>39</th>\n      <td>303679</td>\n      <td>3584</td>\n      <td>1.841561</td>\n      <td>7</td>\n    </tr>\n    <tr>\n      <th>40</th>\n      <td>55620</td>\n      <td>3072</td>\n      <td>1.841561</td>\n      <td>6</td>\n    </tr>\n    <tr>\n      <th>41</th>\n      <td>840815</td>\n      <td>12288</td>\n      <td>1.887436</td>\n      <td>24</td>\n    </tr>\n    <tr>\n      <th>42</th>\n      <td>18046</td>\n      <td>512</td>\n      <td>1.939865</td>\n      <td>1</td>\n    </tr>\n    <tr>\n      <th>43</th>\n      <td>287047</td>\n      <td>512</td>\n      <td>1.939865</td>\n      <td>1</td>\n    </tr>\n    <tr>\n      <th>44</th>\n      <td>140946</td>\n      <td>3072</td>\n      <td>1.946419</td>\n      <td>6</td>\n    </tr>\n    <tr>\n      <th>45</th>\n      <td>211167</td>\n      <td>3072</td>\n      <td>1.946419</td>\n      <td>6</td>\n    </tr>\n    <tr>\n      <th>46</th>\n      <td>878231</td>\n      <td>1024</td>\n      <td>1.946419</td>\n      <td>2</td>\n    </tr>\n    <tr>\n      <th>47</th>\n      <td>1002245</td>\n      <td>1024</td>\n      <td>1.946419</td>\n      <td>2</td>\n    </tr>\n    <tr>\n      <th>48</th>\n      <td>725318</td>\n      <td>512</td>\n      <td>1.946419</td>\n      <td>1</td>\n    </tr>\n    <tr>\n      <th>49</th>\n      <td>206064</td>\n      <td>3072</td>\n      <td>1.946419</td>\n      <td>6</td>\n    </tr>\n    <tr>\n      <th>50</th>\n      <td>817767</td>\n      <td>3072</td>\n      <td>1.946419</td>\n      <td>6</td>\n    </tr>\n    <tr>\n      <th>51</th>\n      <td>760114</td>\n      <td>512</td>\n      <td>1.946419</td>\n      <td>1</td>\n    </tr>\n    <tr>\n      <th>52</th>\n      <td>303686</td>\n      <td>12288</td>\n      <td>1.946419</td>\n      <td>24</td>\n    </tr>\n    <tr>\n      <th>53</th>\n      <td>840815</td>\n      <td>512</td>\n      <td>2.070937</td>\n      <td>1</td>\n    </tr>\n    <tr>\n      <th>54</th>\n      <td>303710</td>\n      <td>1536</td>\n      <td>2.116812</td>\n      <td>3</td>\n    </tr>\n  </tbody>\n</table>\n</div>"
     },
     "execution_count": 19,
     "metadata": {},
     "output_type": "execute_result"
    }
   ],
   "source": [
    "df_w = df[df['Opcode'].str.lower() == 'w'].copy()  # Operation Type이 'w' 인 것만 원함\n",
    "df_w.drop(['ASU', 'Opcode'], axis=1, inplace=True)  # 'ASU', 'Opcode' Column을 drop\n",
    "df_w.drop(df_w[df_w['Size'] == 0].index, inplace=True)  # Size가 0인 row 제거\n",
    "df_w['# of Sectors'] = df_w['Size'].div(SECTOR_SIZE).apply(np.ceil)  # convert Byte size to Sectors\n",
    "df_w['# of Sectors'] = df_w['# of Sectors'].astype('int32')\n",
    "df_w['SectorId'] = df_w['SectorId'].astype(str)\n",
    "df_w['Size'] = df_w['Size'].astype('int32')\n",
    "df_w.head(50)"
   ],
   "metadata": {
    "collapsed": false,
    "pycharm": {
     "name": "#%%\n"
    }
   }
  },
  {
   "cell_type": "code",
   "execution_count": 20,
   "outputs": [
    {
     "name": "stdout",
     "output_type": "stream",
     "text": [
      "4099353\n"
     ]
    }
   ],
   "source": [
    "print(len(df_w))"
   ],
   "metadata": {
    "collapsed": false,
    "pycharm": {
     "name": "#%%\n"
    }
   }
  },
  {
   "cell_type": "code",
   "execution_count": 21,
   "outputs": [
    {
     "data": {
      "text/plain": "    PageId  Size Timestamp\n0    37945  3584  0.000000\n1     6948  3072  0.000000\n2    37946  3584  0.026214\n3    30105  3072  0.026214\n4    37947  3584  0.117964\n5     6949  3072  0.117964\n6    37948  3584  0.530841\n7     6949  3072  0.530841\n8    37949  3584  0.550502\n9    30105  3072  0.550502\n10   37950  3584  0.648806\n11    6950  3072  0.648806\n12   37951  3584  0.910950\n13    6950  3072  0.910950\n14   37952  3584  0.930611\n15   30105  3072  0.930611\n16   37952  3584  1.028915\n17    6951  3072  1.028915\n18   37953  3584  1.330380\n19    6951  3072  1.330380\n20   37954  3584  1.343487\n21   30105  3072  1.343487\n22   37955  3584  1.441792\n23    6951  3072  1.441792\n24   37956  3584  1.723596\n25    6951  3072  1.723596\n26   37957  3584  1.736704\n27   30105  3072  1.736704\n28   37958  3584  1.769472\n29   25758  3072  1.769472\n30  102220  3072  1.769472\n31   37959  3584  1.808793\n32   45205  3072  1.808793\n33  121668  3072  1.808793\n34   37959  3584  1.841561\n35    6952  3072  1.841561\n36  105101  4096  1.887436\n37  105102  4096  1.887436\n38  105103  4096  1.887436\n39    2255   512  1.939865\n40   35880   512  1.939865\n41   17618  3072  1.946419\n42   26395  3072  1.946419\n43  109778  1024  1.946419\n44  125280  1024  1.946419\n45   90664   512  1.946419\n46   25758  3072  1.946419\n47  102220  3072  1.946419\n48   95014   512  1.946419\n49   37960  4096  1.946419",
      "text/html": "<div>\n<style scoped>\n    .dataframe tbody tr th:only-of-type {\n        vertical-align: middle;\n    }\n\n    .dataframe tbody tr th {\n        vertical-align: top;\n    }\n\n    .dataframe thead tr th {\n        text-align: left;\n    }\n</style>\n<table border=\"1\" class=\"dataframe\">\n  <thead>\n    <tr>\n      <th></th>\n      <th>PageId</th>\n      <th>Size</th>\n      <th>Timestamp</th>\n    </tr>\n  </thead>\n  <tbody>\n    <tr>\n      <th>0</th>\n      <td>37945</td>\n      <td>3584</td>\n      <td>0.000000</td>\n    </tr>\n    <tr>\n      <th>1</th>\n      <td>6948</td>\n      <td>3072</td>\n      <td>0.000000</td>\n    </tr>\n    <tr>\n      <th>2</th>\n      <td>37946</td>\n      <td>3584</td>\n      <td>0.026214</td>\n    </tr>\n    <tr>\n      <th>3</th>\n      <td>30105</td>\n      <td>3072</td>\n      <td>0.026214</td>\n    </tr>\n    <tr>\n      <th>4</th>\n      <td>37947</td>\n      <td>3584</td>\n      <td>0.117964</td>\n    </tr>\n    <tr>\n      <th>5</th>\n      <td>6949</td>\n      <td>3072</td>\n      <td>0.117964</td>\n    </tr>\n    <tr>\n      <th>6</th>\n      <td>37948</td>\n      <td>3584</td>\n      <td>0.530841</td>\n    </tr>\n    <tr>\n      <th>7</th>\n      <td>6949</td>\n      <td>3072</td>\n      <td>0.530841</td>\n    </tr>\n    <tr>\n      <th>8</th>\n      <td>37949</td>\n      <td>3584</td>\n      <td>0.550502</td>\n    </tr>\n    <tr>\n      <th>9</th>\n      <td>30105</td>\n      <td>3072</td>\n      <td>0.550502</td>\n    </tr>\n    <tr>\n      <th>10</th>\n      <td>37950</td>\n      <td>3584</td>\n      <td>0.648806</td>\n    </tr>\n    <tr>\n      <th>11</th>\n      <td>6950</td>\n      <td>3072</td>\n      <td>0.648806</td>\n    </tr>\n    <tr>\n      <th>12</th>\n      <td>37951</td>\n      <td>3584</td>\n      <td>0.910950</td>\n    </tr>\n    <tr>\n      <th>13</th>\n      <td>6950</td>\n      <td>3072</td>\n      <td>0.910950</td>\n    </tr>\n    <tr>\n      <th>14</th>\n      <td>37952</td>\n      <td>3584</td>\n      <td>0.930611</td>\n    </tr>\n    <tr>\n      <th>15</th>\n      <td>30105</td>\n      <td>3072</td>\n      <td>0.930611</td>\n    </tr>\n    <tr>\n      <th>16</th>\n      <td>37952</td>\n      <td>3584</td>\n      <td>1.028915</td>\n    </tr>\n    <tr>\n      <th>17</th>\n      <td>6951</td>\n      <td>3072</td>\n      <td>1.028915</td>\n    </tr>\n    <tr>\n      <th>18</th>\n      <td>37953</td>\n      <td>3584</td>\n      <td>1.330380</td>\n    </tr>\n    <tr>\n      <th>19</th>\n      <td>6951</td>\n      <td>3072</td>\n      <td>1.330380</td>\n    </tr>\n    <tr>\n      <th>20</th>\n      <td>37954</td>\n      <td>3584</td>\n      <td>1.343487</td>\n    </tr>\n    <tr>\n      <th>21</th>\n      <td>30105</td>\n      <td>3072</td>\n      <td>1.343487</td>\n    </tr>\n    <tr>\n      <th>22</th>\n      <td>37955</td>\n      <td>3584</td>\n      <td>1.441792</td>\n    </tr>\n    <tr>\n      <th>23</th>\n      <td>6951</td>\n      <td>3072</td>\n      <td>1.441792</td>\n    </tr>\n    <tr>\n      <th>24</th>\n      <td>37956</td>\n      <td>3584</td>\n      <td>1.723596</td>\n    </tr>\n    <tr>\n      <th>25</th>\n      <td>6951</td>\n      <td>3072</td>\n      <td>1.723596</td>\n    </tr>\n    <tr>\n      <th>26</th>\n      <td>37957</td>\n      <td>3584</td>\n      <td>1.736704</td>\n    </tr>\n    <tr>\n      <th>27</th>\n      <td>30105</td>\n      <td>3072</td>\n      <td>1.736704</td>\n    </tr>\n    <tr>\n      <th>28</th>\n      <td>37958</td>\n      <td>3584</td>\n      <td>1.769472</td>\n    </tr>\n    <tr>\n      <th>29</th>\n      <td>25758</td>\n      <td>3072</td>\n      <td>1.769472</td>\n    </tr>\n    <tr>\n      <th>30</th>\n      <td>102220</td>\n      <td>3072</td>\n      <td>1.769472</td>\n    </tr>\n    <tr>\n      <th>31</th>\n      <td>37959</td>\n      <td>3584</td>\n      <td>1.808793</td>\n    </tr>\n    <tr>\n      <th>32</th>\n      <td>45205</td>\n      <td>3072</td>\n      <td>1.808793</td>\n    </tr>\n    <tr>\n      <th>33</th>\n      <td>121668</td>\n      <td>3072</td>\n      <td>1.808793</td>\n    </tr>\n    <tr>\n      <th>34</th>\n      <td>37959</td>\n      <td>3584</td>\n      <td>1.841561</td>\n    </tr>\n    <tr>\n      <th>35</th>\n      <td>6952</td>\n      <td>3072</td>\n      <td>1.841561</td>\n    </tr>\n    <tr>\n      <th>36</th>\n      <td>105101</td>\n      <td>4096</td>\n      <td>1.887436</td>\n    </tr>\n    <tr>\n      <th>37</th>\n      <td>105102</td>\n      <td>4096</td>\n      <td>1.887436</td>\n    </tr>\n    <tr>\n      <th>38</th>\n      <td>105103</td>\n      <td>4096</td>\n      <td>1.887436</td>\n    </tr>\n    <tr>\n      <th>39</th>\n      <td>2255</td>\n      <td>512</td>\n      <td>1.939865</td>\n    </tr>\n    <tr>\n      <th>40</th>\n      <td>35880</td>\n      <td>512</td>\n      <td>1.939865</td>\n    </tr>\n    <tr>\n      <th>41</th>\n      <td>17618</td>\n      <td>3072</td>\n      <td>1.946419</td>\n    </tr>\n    <tr>\n      <th>42</th>\n      <td>26395</td>\n      <td>3072</td>\n      <td>1.946419</td>\n    </tr>\n    <tr>\n      <th>43</th>\n      <td>109778</td>\n      <td>1024</td>\n      <td>1.946419</td>\n    </tr>\n    <tr>\n      <th>44</th>\n      <td>125280</td>\n      <td>1024</td>\n      <td>1.946419</td>\n    </tr>\n    <tr>\n      <th>45</th>\n      <td>90664</td>\n      <td>512</td>\n      <td>1.946419</td>\n    </tr>\n    <tr>\n      <th>46</th>\n      <td>25758</td>\n      <td>3072</td>\n      <td>1.946419</td>\n    </tr>\n    <tr>\n      <th>47</th>\n      <td>102220</td>\n      <td>3072</td>\n      <td>1.946419</td>\n    </tr>\n    <tr>\n      <th>48</th>\n      <td>95014</td>\n      <td>512</td>\n      <td>1.946419</td>\n    </tr>\n    <tr>\n      <th>49</th>\n      <td>37960</td>\n      <td>4096</td>\n      <td>1.946419</td>\n    </tr>\n  </tbody>\n</table>\n</div>"
     },
     "execution_count": 21,
     "metadata": {},
     "output_type": "execute_result"
    }
   ],
   "source": [
    "datas = []\n",
    "for sector_id, size, timestamp, numofsectors in df_w.values:\n",
    "    for i in range(numofsectors//8 + 1):\n",
    "        if size == 0:\n",
    "            break\n",
    "        datas.append([int(sector_id) // 8 + i, min(4*KB, size), timestamp])\n",
    "        size -= 4*KB\n",
    "\n",
    "total_df = pd.DataFrame(datas, columns=[['PageId', 'Size', 'Timestamp']])\n",
    "total_df.head(50)"
   ],
   "metadata": {
    "collapsed": false,
    "pycharm": {
     "name": "#%%\n"
    }
   }
  },
  {
   "cell_type": "code",
   "execution_count": 25,
   "outputs": [
    {
     "name": "stdout",
     "output_type": "stream",
     "text": [
      "1688474\n",
      "3939773\n"
     ]
    }
   ],
   "source": [
    "# Split data with model:simulation = 3:7\n",
    "total_rows = len(total_df)\n",
    "\n",
    "# 전체 30%를 모델 학습에 사용한다.\n",
    "model_rows = int(total_rows * 0.3)\n",
    "\n",
    "# 나머지 70%를 simulation에 사용한다.\n",
    "model_df = total_df.iloc[:model_rows]\n",
    "simulation_df = total_df.iloc[model_rows:]\n",
    "print(len(model_df))\n",
    "print(len(simulation_df))"
   ],
   "metadata": {
    "collapsed": false,
    "pycharm": {
     "name": "#%%\n"
    }
   }
  },
  {
   "cell_type": "code",
   "execution_count": 27,
   "outputs": [
    {
     "data": {
      "text/plain": "  PageId  Size Timestamp\n0  37945  3584  0.000000\n1   6948  3072  0.000000\n2  37946  3584  0.026214\n3  30105  3072  0.026214\n4  37947  3584  0.117964",
      "text/html": "<div>\n<style scoped>\n    .dataframe tbody tr th:only-of-type {\n        vertical-align: middle;\n    }\n\n    .dataframe tbody tr th {\n        vertical-align: top;\n    }\n\n    .dataframe thead tr th {\n        text-align: left;\n    }\n</style>\n<table border=\"1\" class=\"dataframe\">\n  <thead>\n    <tr>\n      <th></th>\n      <th>PageId</th>\n      <th>Size</th>\n      <th>Timestamp</th>\n    </tr>\n  </thead>\n  <tbody>\n    <tr>\n      <th>0</th>\n      <td>37945</td>\n      <td>3584</td>\n      <td>0.000000</td>\n    </tr>\n    <tr>\n      <th>1</th>\n      <td>6948</td>\n      <td>3072</td>\n      <td>0.000000</td>\n    </tr>\n    <tr>\n      <th>2</th>\n      <td>37946</td>\n      <td>3584</td>\n      <td>0.026214</td>\n    </tr>\n    <tr>\n      <th>3</th>\n      <td>30105</td>\n      <td>3072</td>\n      <td>0.026214</td>\n    </tr>\n    <tr>\n      <th>4</th>\n      <td>37947</td>\n      <td>3584</td>\n      <td>0.117964</td>\n    </tr>\n  </tbody>\n</table>\n</div>"
     },
     "execution_count": 27,
     "metadata": {},
     "output_type": "execute_result"
    }
   ],
   "source": [
    "model_df.head()"
   ],
   "metadata": {
    "collapsed": false,
    "pycharm": {
     "name": "#%%\n"
    }
   }
  },
  {
   "cell_type": "code",
   "execution_count": 26,
   "outputs": [],
   "source": [
    "model_df.to_csv(\"../csv/preprocessed/iotrace_model.csv\", header=None, index=False)\n",
    "simulation_df.to_csv(\"../csv/preprocessed/iotrace_simulation.csv\", header=None, index=False)"
   ],
   "metadata": {
    "collapsed": false,
    "pycharm": {
     "name": "#%%\n"
    }
   }
  }
 ],
 "metadata": {
  "kernelspec": {
   "display_name": "Python 3",
   "language": "python",
   "name": "python3"
  },
  "language_info": {
   "codemirror_mode": {
    "name": "ipython",
    "version": 2
   },
   "file_extension": ".py",
   "mimetype": "text/x-python",
   "name": "python",
   "nbconvert_exporter": "python",
   "pygments_lexer": "ipython2",
   "version": "2.7.6"
  }
 },
 "nbformat": 4,
 "nbformat_minor": 0
}